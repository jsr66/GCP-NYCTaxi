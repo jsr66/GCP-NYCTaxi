{
 "cells": [
  {
   "cell_type": "code",
   "execution_count": 38,
   "metadata": {},
   "outputs": [],
   "source": [
    "from google.cloud import bigquery as bq"
   ]
  },
  {
   "cell_type": "code",
   "execution_count": 14,
   "metadata": {},
   "outputs": [],
   "source": [
    "!sudo chown -R jupyter:jupyter /home/jupyter/JSR_NYCTaxi"
   ]
  },
  {
   "cell_type": "code",
   "execution_count": 11,
   "metadata": {},
   "outputs": [],
   "source": [
    "BUCKET = 'nyctaxi-284709'\n",
    "PROJECT = 'nyctaxi-284709'\n",
    "REGION = 'us'"
   ]
  },
  {
   "cell_type": "code",
   "execution_count": 12,
   "metadata": {},
   "outputs": [],
   "source": [
    "import os\n",
    "\n",
    "os.environ['BUCKET'] = BUCKET\n",
    "os.environ['PROJECT'] = PROJECT\n",
    "os.environ['REGION'] = REGION"
   ]
  },
  {
   "cell_type": "markdown",
   "metadata": {},
   "source": [
    "# Import Data, Determine Feature Columns, Unique Values of Each Feature, Range of Values for Each Feature, Missing Values."
   ]
  },
  {
   "cell_type": "markdown",
   "metadata": {},
   "source": [
    "- Focus on yellow cab data and ignore green and for hire vehicles since yellow cabs are most prevalent kind of taxi and their data go back the furthest.\n",
    "- Download 2019 data from original source since this year is not included in Big Query public datasets. Download earlier years from Google Big Query public datasets since these won't waste storage space in my Google Cloud bucket and can be accessed directly from this notebook via Google Cloud AI Platform. \n"
   ]
  },
  {
   "cell_type": "code",
   "execution_count": 70,
   "metadata": {},
   "outputs": [],
   "source": [
    "from google.cloud import storage\n",
    "import urllib.request\n",
    "\n",
    "project_id = 'nyctaxi-284709'\n",
    "bucket_name = 'nyctaxi-284709'\n",
    "storage_client = storage.Client()\n",
    "\n",
    "# function to upload individual csv data files from source url to google cloud for an individual file. adapted from https://stackoverflow.com/questions/54235721/transfer-file-from-url-to-cloud-storage#:~:text=It%20is%20not%20possible%20to,memory%2C%20or%20in%20a%20file.\n",
    "def upload_blob(bucket_name, source_file_name, destination_blob_name):  \n",
    "    file = urllib.request.urlopen(source_file_name)\n",
    "\n",
    "    bucket = storage_client.get_bucket(bucket_name)\n",
    "    blob = bucket.blob(destination_blob_name)\n",
    "\n",
    "    blob.upload_from_string(file.read(), content_type='csv')\n",
    "\n",
    "# function to upload data files from source url to google cloud for a specified range of months and years \n",
    "def download_data(year_min, year_max): # not inclusive of year_max\n",
    "    print('Transferring raw data from https://www1.nyc.gov/site/tlc/about/tlc-trip-record-data.page to gs://nyctaxi-284709/')\n",
    "    for year in range(year_min, year_max, 1):\n",
    "        for month in range(1,13):\n",
    "            print(f'Transferring Taxi Data for Year: {year}, Month: {month:02}')\n",
    "            source_file_name = f'https://s3.amazonaws.com/nyc-tlc/trip+data/yellow_tripdata_{year}-{month:02}.csv'\n",
    "            destination_blob_name = os.path.basename(source_file_name)\n",
    "            upload_blob(bucket_name, source_file_name, destination_blob_name)"
   ]
  },
  {
   "cell_type": "code",
   "execution_count": 71,
   "metadata": {},
   "outputs": [
    {
     "name": "stdout",
     "output_type": "stream",
     "text": [
      "Transferring raw data from https://www1.nyc.gov/site/tlc/about/tlc-trip-record-data.page to gs://nyctaxi-284709/\n",
      "Transferring Taxi Data for Year: 2019, Month: 01\n",
      "Transferring Taxi Data for Year: 2019, Month: 02\n",
      "Transferring Taxi Data for Year: 2019, Month: 03\n",
      "Transferring Taxi Data for Year: 2019, Month: 04\n",
      "Transferring Taxi Data for Year: 2019, Month: 05\n",
      "Transferring Taxi Data for Year: 2019, Month: 06\n",
      "Transferring Taxi Data for Year: 2019, Month: 07\n",
      "Transferring Taxi Data for Year: 2019, Month: 08\n",
      "Transferring Taxi Data for Year: 2019, Month: 09\n",
      "Transferring Taxi Data for Year: 2019, Month: 10\n",
      "Transferring Taxi Data for Year: 2019, Month: 11\n",
      "Transferring Taxi Data for Year: 2019, Month: 12\n"
     ]
    }
   ],
   "source": [
    "download_data(2019, 2020)"
   ]
  },
  {
   "cell_type": "markdown",
   "metadata": {},
   "source": [
    "Inspect 2019 yellow cab data to get a sense of what features are included in each year's dataset. "
   ]
  },
  {
   "cell_type": "code",
   "execution_count": 78,
   "metadata": {},
   "outputs": [],
   "source": [
    "column_name = 'test'\n",
    "query = f'''\n",
    "SELECT {column_name} \n",
    "FROM bigquery-public-data.new_york_taxi_trips.tlc_yellow_trips_2018\n",
    "LIMIT 100\n",
    "'''"
   ]
  },
  {
   "cell_type": "code",
   "execution_count": 79,
   "metadata": {},
   "outputs": [
    {
     "data": {
      "text/plain": [
       "'\\nSELECT test \\nFROM bigquery-public-data.new_york_taxi_trips.tlc_yellow_trips_2018\\nLIMIT 100\\n'"
      ]
     },
     "execution_count": 79,
     "metadata": {},
     "output_type": "execute_result"
    }
   ],
   "source": [
    "query"
   ]
  },
  {
   "cell_type": "markdown",
   "metadata": {},
   "source": [
    "### Get Distinct Values for Columns"
   ]
  },
  {
   "cell_type": "code",
   "execution_count": 217,
   "metadata": {},
   "outputs": [],
   "source": [
    "# Construct a BigQuery client object.\n",
    "client = bigquery.Client()\n",
    "\n",
    "def get_bq_tablename(year):\n",
    "    if year >= 2009 and year <=2016:\n",
    "        table_name = f'bigquery-public-data.new_york.tlc_yellow_trips_{year}'\n",
    "    elif year == 2017 or year == 2018:\n",
    "        table_name = f'bigquery-public-data.new_york_taxi_trips.tlc_yellow_trips_{year}'\n",
    "    elif year == 2019:\n",
    "        table_name = f'nyctaxi-284709.tlc_yellow_trips_2019.tlc_yellow_trips_2019'\n",
    "    else:\n",
    "        print('Input to get_bq_tablename() must be a year between 2009 and 2019 inclusive')\n",
    "        return\n",
    "    return table_name\n",
    "\n",
    "def get_column_names(year): # column names should be the same for all years, but \n",
    "    if year < 2009 and year > 2019:  \n",
    "        print('Input to get_column_names() must be a year between 2009 and 2019 inclusive')\n",
    "        return\n",
    "    table_name = get_bq_tablename(year)\n",
    "    dataset_name = '.'.join(table_name.split('.')[:-1])\n",
    "    table =  table_name.split('.')[-1]\n",
    "    query = f'''\n",
    "    SELECT column_name FROM {dataset_name}.INFORMATION_SCHEMA.COLUMNS\n",
    "    WHERE table_name = '{table}'\n",
    "    '''\n",
    "    return bq.Client().query(query).result().to_dataframe()\n",
    "\n",
    "def get_distinct_values(column_name, year):\n",
    "    table_name = get_bq_tablename(year)\n",
    "    query = f'''\n",
    "    SELECT DISTINCT {column_name} \n",
    "    FROM {table_name}\n",
    "    '''\n",
    "    return bq.Client().query(query).result().to_dataframe()\n",
    "    \n",
    "    "
   ]
  },
  {
   "cell_type": "code",
   "execution_count": 219,
   "metadata": {},
   "outputs": [
    {
     "data": {
      "text/html": [
       "<div>\n",
       "<style scoped>\n",
       "    .dataframe tbody tr th:only-of-type {\n",
       "        vertical-align: middle;\n",
       "    }\n",
       "\n",
       "    .dataframe tbody tr th {\n",
       "        vertical-align: top;\n",
       "    }\n",
       "\n",
       "    .dataframe thead th {\n",
       "        text-align: right;\n",
       "    }\n",
       "</style>\n",
       "<table border=\"1\" class=\"dataframe\">\n",
       "  <thead>\n",
       "    <tr style=\"text-align: right;\">\n",
       "      <th></th>\n",
       "      <th>vendor_id</th>\n",
       "    </tr>\n",
       "  </thead>\n",
       "  <tbody>\n",
       "    <tr>\n",
       "      <th>0</th>\n",
       "      <td>DDS</td>\n",
       "    </tr>\n",
       "    <tr>\n",
       "      <th>1</th>\n",
       "      <td>CMT</td>\n",
       "    </tr>\n",
       "    <tr>\n",
       "      <th>2</th>\n",
       "      <td>VTS</td>\n",
       "    </tr>\n",
       "  </tbody>\n",
       "</table>\n",
       "</div>"
      ],
      "text/plain": [
       "  vendor_id\n",
       "0       DDS\n",
       "1       CMT\n",
       "2       VTS"
      ]
     },
     "execution_count": 219,
     "metadata": {},
     "output_type": "execute_result"
    }
   ],
   "source": [
    "get_distinct_values('vendor_id', 2009)"
   ]
  },
  {
   "cell_type": "code",
   "execution_count": 210,
   "metadata": {},
   "outputs": [
    {
     "name": "stdout",
     "output_type": "stream",
     "text": [
      "2009\n",
      "bigquery-public-data.new_york.tlc_yellow_trips_2009\n",
      "2010\n",
      "bigquery-public-data.new_york.tlc_yellow_trips_2010\n",
      "2011\n",
      "bigquery-public-data.new_york.tlc_yellow_trips_2011\n",
      "2012\n",
      "bigquery-public-data.new_york.tlc_yellow_trips_2012\n",
      "2013\n",
      "bigquery-public-data.new_york.tlc_yellow_trips_2013\n",
      "2014\n",
      "bigquery-public-data.new_york.tlc_yellow_trips_2014\n",
      "2015\n",
      "bigquery-public-data.new_york.tlc_yellow_trips_2015\n",
      "2016\n",
      "bigquery-public-data.new_york.tlc_yellow_trips_2016\n",
      "2017\n",
      "bigquery-public-data.new_york_taxi_trips.tlc_yellow_trips_2017\n",
      "2018\n",
      "bigquery-public-data.new_york_taxi_trips.tlc_yellow_trips_2018\n",
      "2019\n",
      "nyctaxi-284709.tlc_yellow_trips_2019.tlc_yellow_trips_2019\n"
     ]
    }
   ],
   "source": [
    "for year in range(2009,2020):\n",
    "    print(year)\n",
    "    print(get_bq_tablename(year))"
   ]
  },
  {
   "cell_type": "code",
   "execution_count": 216,
   "metadata": {},
   "outputs": [
    {
     "name": "stdout",
     "output_type": "stream",
     "text": [
      "dataset_name: bigquery-public-data.new_york\n",
      "table: tlc_yellow_trips_2009\n"
     ]
    },
    {
     "data": {
      "text/html": [
       "<div>\n",
       "<style scoped>\n",
       "    .dataframe tbody tr th:only-of-type {\n",
       "        vertical-align: middle;\n",
       "    }\n",
       "\n",
       "    .dataframe tbody tr th {\n",
       "        vertical-align: top;\n",
       "    }\n",
       "\n",
       "    .dataframe thead th {\n",
       "        text-align: right;\n",
       "    }\n",
       "</style>\n",
       "<table border=\"1\" class=\"dataframe\">\n",
       "  <thead>\n",
       "    <tr style=\"text-align: right;\">\n",
       "      <th></th>\n",
       "      <th>column_name</th>\n",
       "    </tr>\n",
       "  </thead>\n",
       "  <tbody>\n",
       "    <tr>\n",
       "      <th>0</th>\n",
       "      <td>vendor_id</td>\n",
       "    </tr>\n",
       "    <tr>\n",
       "      <th>1</th>\n",
       "      <td>pickup_datetime</td>\n",
       "    </tr>\n",
       "    <tr>\n",
       "      <th>2</th>\n",
       "      <td>dropoff_datetime</td>\n",
       "    </tr>\n",
       "    <tr>\n",
       "      <th>3</th>\n",
       "      <td>passenger_count</td>\n",
       "    </tr>\n",
       "    <tr>\n",
       "      <th>4</th>\n",
       "      <td>trip_distance</td>\n",
       "    </tr>\n",
       "    <tr>\n",
       "      <th>5</th>\n",
       "      <td>pickup_longitude</td>\n",
       "    </tr>\n",
       "    <tr>\n",
       "      <th>6</th>\n",
       "      <td>pickup_latitude</td>\n",
       "    </tr>\n",
       "    <tr>\n",
       "      <th>7</th>\n",
       "      <td>rate_code</td>\n",
       "    </tr>\n",
       "    <tr>\n",
       "      <th>8</th>\n",
       "      <td>store_and_fwd_flag</td>\n",
       "    </tr>\n",
       "    <tr>\n",
       "      <th>9</th>\n",
       "      <td>dropoff_longitude</td>\n",
       "    </tr>\n",
       "    <tr>\n",
       "      <th>10</th>\n",
       "      <td>dropoff_latitude</td>\n",
       "    </tr>\n",
       "    <tr>\n",
       "      <th>11</th>\n",
       "      <td>payment_type</td>\n",
       "    </tr>\n",
       "    <tr>\n",
       "      <th>12</th>\n",
       "      <td>fare_amount</td>\n",
       "    </tr>\n",
       "    <tr>\n",
       "      <th>13</th>\n",
       "      <td>extra</td>\n",
       "    </tr>\n",
       "    <tr>\n",
       "      <th>14</th>\n",
       "      <td>mta_tax</td>\n",
       "    </tr>\n",
       "    <tr>\n",
       "      <th>15</th>\n",
       "      <td>tip_amount</td>\n",
       "    </tr>\n",
       "    <tr>\n",
       "      <th>16</th>\n",
       "      <td>tolls_amount</td>\n",
       "    </tr>\n",
       "    <tr>\n",
       "      <th>17</th>\n",
       "      <td>total_amount</td>\n",
       "    </tr>\n",
       "    <tr>\n",
       "      <th>18</th>\n",
       "      <td>imp_surcharge</td>\n",
       "    </tr>\n",
       "  </tbody>\n",
       "</table>\n",
       "</div>"
      ],
      "text/plain": [
       "           column_name\n",
       "0            vendor_id\n",
       "1      pickup_datetime\n",
       "2     dropoff_datetime\n",
       "3      passenger_count\n",
       "4        trip_distance\n",
       "5     pickup_longitude\n",
       "6      pickup_latitude\n",
       "7            rate_code\n",
       "8   store_and_fwd_flag\n",
       "9    dropoff_longitude\n",
       "10    dropoff_latitude\n",
       "11        payment_type\n",
       "12         fare_amount\n",
       "13               extra\n",
       "14             mta_tax\n",
       "15          tip_amount\n",
       "16        tolls_amount\n",
       "17        total_amount\n",
       "18       imp_surcharge"
      ]
     },
     "execution_count": 216,
     "metadata": {},
     "output_type": "execute_result"
    }
   ],
   "source": [
    "get_column_names(2009)"
   ]
  },
  {
   "cell_type": "code",
   "execution_count": 188,
   "metadata": {},
   "outputs": [
    {
     "data": {
      "text/html": [
       "<div>\n",
       "<style scoped>\n",
       "    .dataframe tbody tr th:only-of-type {\n",
       "        vertical-align: middle;\n",
       "    }\n",
       "\n",
       "    .dataframe tbody tr th {\n",
       "        vertical-align: top;\n",
       "    }\n",
       "\n",
       "    .dataframe thead th {\n",
       "        text-align: right;\n",
       "    }\n",
       "</style>\n",
       "<table border=\"1\" class=\"dataframe\">\n",
       "  <thead>\n",
       "    <tr style=\"text-align: right;\">\n",
       "      <th></th>\n",
       "      <th>column_name</th>\n",
       "    </tr>\n",
       "  </thead>\n",
       "  <tbody>\n",
       "    <tr>\n",
       "      <th>0</th>\n",
       "      <td>VendorID</td>\n",
       "    </tr>\n",
       "    <tr>\n",
       "      <th>1</th>\n",
       "      <td>tpep_pickup_datetime</td>\n",
       "    </tr>\n",
       "    <tr>\n",
       "      <th>2</th>\n",
       "      <td>tpep_dropoff_datetime</td>\n",
       "    </tr>\n",
       "    <tr>\n",
       "      <th>3</th>\n",
       "      <td>passenger_count</td>\n",
       "    </tr>\n",
       "    <tr>\n",
       "      <th>4</th>\n",
       "      <td>trip_distance</td>\n",
       "    </tr>\n",
       "    <tr>\n",
       "      <th>5</th>\n",
       "      <td>RatecodeID</td>\n",
       "    </tr>\n",
       "    <tr>\n",
       "      <th>6</th>\n",
       "      <td>store_and_fwd_flag</td>\n",
       "    </tr>\n",
       "    <tr>\n",
       "      <th>7</th>\n",
       "      <td>PULocationID</td>\n",
       "    </tr>\n",
       "    <tr>\n",
       "      <th>8</th>\n",
       "      <td>DOLocationID</td>\n",
       "    </tr>\n",
       "    <tr>\n",
       "      <th>9</th>\n",
       "      <td>payment_type</td>\n",
       "    </tr>\n",
       "    <tr>\n",
       "      <th>10</th>\n",
       "      <td>fare_amount</td>\n",
       "    </tr>\n",
       "    <tr>\n",
       "      <th>11</th>\n",
       "      <td>extra</td>\n",
       "    </tr>\n",
       "    <tr>\n",
       "      <th>12</th>\n",
       "      <td>mta_tax</td>\n",
       "    </tr>\n",
       "    <tr>\n",
       "      <th>13</th>\n",
       "      <td>tip_amount</td>\n",
       "    </tr>\n",
       "    <tr>\n",
       "      <th>14</th>\n",
       "      <td>tolls_amount</td>\n",
       "    </tr>\n",
       "    <tr>\n",
       "      <th>15</th>\n",
       "      <td>improvement_surcharge</td>\n",
       "    </tr>\n",
       "    <tr>\n",
       "      <th>16</th>\n",
       "      <td>total_amount</td>\n",
       "    </tr>\n",
       "    <tr>\n",
       "      <th>17</th>\n",
       "      <td>congestion_surcharge</td>\n",
       "    </tr>\n",
       "    <tr>\n",
       "      <th>18</th>\n",
       "      <td>_PARTITIONTIME</td>\n",
       "    </tr>\n",
       "  </tbody>\n",
       "</table>\n",
       "</div>"
      ],
      "text/plain": [
       "              column_name\n",
       "0                VendorID\n",
       "1    tpep_pickup_datetime\n",
       "2   tpep_dropoff_datetime\n",
       "3         passenger_count\n",
       "4           trip_distance\n",
       "5              RatecodeID\n",
       "6      store_and_fwd_flag\n",
       "7            PULocationID\n",
       "8            DOLocationID\n",
       "9            payment_type\n",
       "10            fare_amount\n",
       "11                  extra\n",
       "12                mta_tax\n",
       "13             tip_amount\n",
       "14           tolls_amount\n",
       "15  improvement_surcharge\n",
       "16           total_amount\n",
       "17   congestion_surcharge\n",
       "18         _PARTITIONTIME"
      ]
     },
     "execution_count": 188,
     "metadata": {},
     "output_type": "execute_result"
    }
   ],
   "source": [
    "query = f'''\n",
    "    SELECT column_name FROM nyctaxi-284709.tlc_yellow_trips_2019.INFORMATION_SCHEMA.COLUMNS\n",
    "    WHERE table_name = 'tlc_yellow_trips_2019'\n",
    "    '''\n",
    "\n",
    "bq.Client().query(query).result().to_dataframe()"
   ]
  },
  {
   "cell_type": "code",
   "execution_count": null,
   "metadata": {},
   "outputs": [],
   "source": []
  },
  {
   "cell_type": "code",
   "execution_count": null,
   "metadata": {},
   "outputs": [],
   "source": []
  },
  {
   "cell_type": "code",
   "execution_count": null,
   "metadata": {},
   "outputs": [],
   "source": []
  },
  {
   "cell_type": "code",
   "execution_count": null,
   "metadata": {},
   "outputs": [],
   "source": []
  },
  {
   "cell_type": "code",
   "execution_count": null,
   "metadata": {},
   "outputs": [],
   "source": []
  },
  {
   "cell_type": "code",
   "execution_count": null,
   "metadata": {},
   "outputs": [],
   "source": []
  },
  {
   "cell_type": "code",
   "execution_count": null,
   "metadata": {},
   "outputs": [],
   "source": []
  },
  {
   "cell_type": "code",
   "execution_count": null,
   "metadata": {},
   "outputs": [],
   "source": []
  },
  {
   "cell_type": "code",
   "execution_count": null,
   "metadata": {},
   "outputs": [],
   "source": []
  },
  {
   "cell_type": "code",
   "execution_count": null,
   "metadata": {},
   "outputs": [],
   "source": []
  },
  {
   "cell_type": "code",
   "execution_count": null,
   "metadata": {},
   "outputs": [],
   "source": []
  },
  {
   "cell_type": "code",
   "execution_count": null,
   "metadata": {},
   "outputs": [],
   "source": []
  },
  {
   "cell_type": "code",
   "execution_count": null,
   "metadata": {},
   "outputs": [],
   "source": []
  },
  {
   "cell_type": "code",
   "execution_count": null,
   "metadata": {},
   "outputs": [],
   "source": []
  },
  {
   "cell_type": "code",
   "execution_count": null,
   "metadata": {},
   "outputs": [],
   "source": []
  },
  {
   "cell_type": "code",
   "execution_count": null,
   "metadata": {},
   "outputs": [],
   "source": []
  },
  {
   "cell_type": "code",
   "execution_count": null,
   "metadata": {},
   "outputs": [],
   "source": []
  },
  {
   "cell_type": "code",
   "execution_count": null,
   "metadata": {},
   "outputs": [],
   "source": []
  },
  {
   "cell_type": "code",
   "execution_count": null,
   "metadata": {},
   "outputs": [],
   "source": []
  },
  {
   "cell_type": "code",
   "execution_count": null,
   "metadata": {},
   "outputs": [],
   "source": []
  },
  {
   "cell_type": "code",
   "execution_count": null,
   "metadata": {},
   "outputs": [],
   "source": []
  },
  {
   "cell_type": "code",
   "execution_count": null,
   "metadata": {},
   "outputs": [],
   "source": []
  }
 ],
 "metadata": {
  "environment": {
   "name": "tf2-2-2-gpu.2-2.m50",
   "type": "gcloud",
   "uri": "gcr.io/deeplearning-platform-release/tf2-2-2-gpu.2-2:m50"
  },
  "kernelspec": {
   "display_name": "Python 3",
   "language": "python",
   "name": "python3"
  },
  "language_info": {
   "codemirror_mode": {
    "name": "ipython",
    "version": 3
   },
   "file_extension": ".py",
   "mimetype": "text/x-python",
   "name": "python",
   "nbconvert_exporter": "python",
   "pygments_lexer": "ipython3",
   "version": "3.7.6"
  }
 },
 "nbformat": 4,
 "nbformat_minor": 4
}
